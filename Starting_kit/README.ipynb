{
 "cells": [
  {
   "cell_type": "markdown",
   "metadata": {},
   "source": [
    "<img src=\"iris.jpg\", width=150, ALIGN=\"left\", border=20>\n",
    "<center>\n",
    "<h1>Iris Challenge Starting Kit</h1>\n",
    "<br>This code was tested with <br>\n",
    "Python 2.7.13 | Anaconda 4.3.1 (https://anaconda.org/)<br>\n",
    "<i> Adapted for Chalab by Isabelle Guyon from original code of Balázs Kégl</i> <br>\n",
    "<a href=\"http://www.datascience-paris-saclay.fr\">Paris Saclay Center for Data Science (CDS)</a>\n",
    "</center>\n",
    "<p><br>\n",
    "\n",
    "ALL INFORMATION, SOFTWARE, DOCUMENTATION, AND DATA ARE PROVIDED \"AS-IS\". The CDS, CHALEARN, AND/OR OTHER ORGANIZERS OR CODE AUTHORS DISCLAIM ANY EXPRESSED OR IMPLIED WARRANTIES, INCLUDING, BUT NOT LIMITED TO, THE IMPLIED WARRANTIES OF MERCHANTABILITY AND FITNESS FOR ANY PARTICULAR PURPOSE, AND THE WARRANTY OF NON-INFRIGEMENT OF ANY THIRD PARTY'S INTELLECTUAL PROPERTY RIGHTS. IN NO EVENT SHALL AUTHORS AND ORGANIZERS BE LIABLE FOR ANY SPECIAL, \n",
    "INDIRECT OR CONSEQUENTIAL DAMAGES OR ANY DAMAGES WHATSOEVER ARISING OUT OF OR IN CONNECTION WITH THE USE OR PERFORMANCE OF SOFTWARE, DOCUMENTS, MATERIALS, PUBLICATIONS, OR INFORMATION MADE AVAILABLE FOR THE CHALLENGE. "
   ]
  },
  {
   "cell_type": "markdown",
   "metadata": {},
   "source": [
    "# Introduction\n",
    "\n",
    "Iris is a small standard multi-class classification data set from the <a href=\"http://archive.ics.uci.edu/ml/datasets/Iris\">UCI Machine Learning Repository</a>, formatted in the AutoML format."
   ]
  },
  {
   "cell_type": "code",
   "execution_count": 1,
   "metadata": {
    "collapsed": true
   },
   "outputs": [],
   "source": [
    "model_dir = 'sample_code_submission/'          \n",
    "problem_dir = 'ingestion_program/'  \n",
    "score_dir = 'scoring_program/'\n",
    "from sys import path; path.append(model_dir); path.append(problem_dir); path.append(score_dir); \n",
    "%matplotlib inline\n",
    "%load_ext autoreload\n",
    "%autoreload 2\n",
    "import seaborn as sns; sns.set()"
   ]
  },
  {
   "cell_type": "markdown",
   "metadata": {},
   "source": [
    "# Step 1: Exploratory data analysis\n",
    "We provide sample_data with the starting kit, but to prepare your submission, you must fetch the public_data from the challenge website and point to it."
   ]
  },
  {
   "cell_type": "code",
   "execution_count": 77,
   "metadata": {
    "scrolled": true
   },
   "outputs": [
    {
     "name": "stdout",
     "output_type": "stream",
     "text": [
      " Le volume dans le lecteur D s’appelle Disque local D\n",
      " Le numéro de série du volume est 6ED6-8037\n",
      "\n",
      " Répertoire de D:\\Github\\VISION_project\\Starting_kit\n",
      "\n",
      "13/11/2017  11:06    <REP>          sample_data\n",
      "               0 fichier(s)                0 octets\n",
      "               1 Rép(s)  128 250 425 344 octets libres\n"
     ]
    }
   ],
   "source": [
    "datadir = 'sample_data'              # Change this to the directory where you put the input data\n",
    "dataname = 'cifar10'\n",
    "!dir $datadir*"
   ]
  },
  {
   "cell_type": "markdown",
   "metadata": {},
   "source": [
    "For convenience, we load the data as a \"pandas\" data frame, so we can use \"pandas\" and \"seaborn\" built in functions to explore the data."
   ]
  },
  {
   "cell_type": "code",
   "execution_count": 78,
   "metadata": {},
   "outputs": [
    {
     "name": "stdout",
     "output_type": "stream",
     "text": [
      "Reading sample_data/cifar10_train from AutoML format\n",
      "Number of examples = 1000\n",
      "Number of features = 256\n",
      "Number of classes = 10\n"
     ]
    }
   ],
   "source": [
    "from data_io import read_as_df\n",
    "data = read_as_df(datadir  + '/' + dataname)                # The data are loaded as a Pandas Data Frame"
   ]
  },
  {
   "cell_type": "code",
   "execution_count": 79,
   "metadata": {},
   "outputs": [
    {
     "data": {
      "text/html": [
       "<div>\n",
       "<style>\n",
       "    .dataframe thead tr:only-child th {\n",
       "        text-align: right;\n",
       "    }\n",
       "\n",
       "    .dataframe thead th {\n",
       "        text-align: left;\n",
       "    }\n",
       "\n",
       "    .dataframe tbody tr th {\n",
       "        vertical-align: top;\n",
       "    }\n",
       "</style>\n",
       "<table border=\"1\" class=\"dataframe\">\n",
       "  <thead>\n",
       "    <tr style=\"text-align: right;\">\n",
       "      <th></th>\n",
       "      <th>feature_1</th>\n",
       "      <th>feature_2</th>\n",
       "      <th>feature_3</th>\n",
       "      <th>feature_4</th>\n",
       "      <th>feature_5</th>\n",
       "      <th>feature_6</th>\n",
       "      <th>feature_7</th>\n",
       "      <th>feature_8</th>\n",
       "      <th>feature_9</th>\n",
       "      <th>feature_10</th>\n",
       "      <th>...</th>\n",
       "      <th>feature_248</th>\n",
       "      <th>feature_249</th>\n",
       "      <th>feature_250</th>\n",
       "      <th>feature_251</th>\n",
       "      <th>feature_252</th>\n",
       "      <th>feature_253</th>\n",
       "      <th>feature_254</th>\n",
       "      <th>feature_255</th>\n",
       "      <th>feature_256</th>\n",
       "      <th>target</th>\n",
       "    </tr>\n",
       "  </thead>\n",
       "  <tbody>\n",
       "    <tr>\n",
       "      <th>0</th>\n",
       "      <td>0.000000</td>\n",
       "      <td>0.0</td>\n",
       "      <td>0.000000</td>\n",
       "      <td>0.971831</td>\n",
       "      <td>0.00000</td>\n",
       "      <td>0.237825</td>\n",
       "      <td>0.0</td>\n",
       "      <td>0.000000</td>\n",
       "      <td>4.582240</td>\n",
       "      <td>0.000000</td>\n",
       "      <td>...</td>\n",
       "      <td>1.071270</td>\n",
       "      <td>0.0</td>\n",
       "      <td>1.13465</td>\n",
       "      <td>0.000000</td>\n",
       "      <td>3.72576</td>\n",
       "      <td>2.518420</td>\n",
       "      <td>0.0</td>\n",
       "      <td>1.867780</td>\n",
       "      <td>2.79299</td>\n",
       "      <td>frog</td>\n",
       "    </tr>\n",
       "    <tr>\n",
       "      <th>1</th>\n",
       "      <td>0.705386</td>\n",
       "      <td>0.0</td>\n",
       "      <td>0.953680</td>\n",
       "      <td>0.000000</td>\n",
       "      <td>3.64746</td>\n",
       "      <td>0.000000</td>\n",
       "      <td>0.0</td>\n",
       "      <td>0.000000</td>\n",
       "      <td>0.206124</td>\n",
       "      <td>0.000000</td>\n",
       "      <td>...</td>\n",
       "      <td>1.213560</td>\n",
       "      <td>0.0</td>\n",
       "      <td>0.00000</td>\n",
       "      <td>0.000000</td>\n",
       "      <td>1.73826</td>\n",
       "      <td>0.000000</td>\n",
       "      <td>0.0</td>\n",
       "      <td>0.755148</td>\n",
       "      <td>1.46196</td>\n",
       "      <td>automobile</td>\n",
       "    </tr>\n",
       "    <tr>\n",
       "      <th>2</th>\n",
       "      <td>0.000000</td>\n",
       "      <td>0.0</td>\n",
       "      <td>0.000000</td>\n",
       "      <td>0.000000</td>\n",
       "      <td>0.00000</td>\n",
       "      <td>0.000000</td>\n",
       "      <td>0.0</td>\n",
       "      <td>0.000000</td>\n",
       "      <td>3.704580</td>\n",
       "      <td>0.000000</td>\n",
       "      <td>...</td>\n",
       "      <td>0.517879</td>\n",
       "      <td>0.0</td>\n",
       "      <td>0.00000</td>\n",
       "      <td>0.831314</td>\n",
       "      <td>3.63862</td>\n",
       "      <td>0.924173</td>\n",
       "      <td>0.0</td>\n",
       "      <td>4.002000</td>\n",
       "      <td>2.84157</td>\n",
       "      <td>frog</td>\n",
       "    </tr>\n",
       "    <tr>\n",
       "      <th>3</th>\n",
       "      <td>0.000000</td>\n",
       "      <td>0.0</td>\n",
       "      <td>0.114685</td>\n",
       "      <td>1.914960</td>\n",
       "      <td>0.00000</td>\n",
       "      <td>0.000000</td>\n",
       "      <td>0.0</td>\n",
       "      <td>0.118838</td>\n",
       "      <td>1.791660</td>\n",
       "      <td>0.000000</td>\n",
       "      <td>...</td>\n",
       "      <td>0.347925</td>\n",
       "      <td>0.0</td>\n",
       "      <td>2.36946</td>\n",
       "      <td>0.722686</td>\n",
       "      <td>3.82811</td>\n",
       "      <td>0.411937</td>\n",
       "      <td>0.0</td>\n",
       "      <td>2.211020</td>\n",
       "      <td>3.02779</td>\n",
       "      <td>frog</td>\n",
       "    </tr>\n",
       "    <tr>\n",
       "      <th>4</th>\n",
       "      <td>0.000000</td>\n",
       "      <td>0.0</td>\n",
       "      <td>0.000000</td>\n",
       "      <td>0.000000</td>\n",
       "      <td>0.00000</td>\n",
       "      <td>0.929534</td>\n",
       "      <td>0.0</td>\n",
       "      <td>0.000000</td>\n",
       "      <td>0.000000</td>\n",
       "      <td>0.436912</td>\n",
       "      <td>...</td>\n",
       "      <td>1.515330</td>\n",
       "      <td>0.0</td>\n",
       "      <td>0.00000</td>\n",
       "      <td>0.000000</td>\n",
       "      <td>0.00000</td>\n",
       "      <td>2.957710</td>\n",
       "      <td>0.0</td>\n",
       "      <td>1.208070</td>\n",
       "      <td>0.00000</td>\n",
       "      <td>ship</td>\n",
       "    </tr>\n",
       "  </tbody>\n",
       "</table>\n",
       "<p>5 rows × 257 columns</p>\n",
       "</div>"
      ],
      "text/plain": [
       "   feature_1  feature_2  feature_3  feature_4  feature_5  feature_6  \\\n",
       "0   0.000000        0.0   0.000000   0.971831    0.00000   0.237825   \n",
       "1   0.705386        0.0   0.953680   0.000000    3.64746   0.000000   \n",
       "2   0.000000        0.0   0.000000   0.000000    0.00000   0.000000   \n",
       "3   0.000000        0.0   0.114685   1.914960    0.00000   0.000000   \n",
       "4   0.000000        0.0   0.000000   0.000000    0.00000   0.929534   \n",
       "\n",
       "   feature_7  feature_8  feature_9  feature_10     ...      feature_248  \\\n",
       "0        0.0   0.000000   4.582240    0.000000     ...         1.071270   \n",
       "1        0.0   0.000000   0.206124    0.000000     ...         1.213560   \n",
       "2        0.0   0.000000   3.704580    0.000000     ...         0.517879   \n",
       "3        0.0   0.118838   1.791660    0.000000     ...         0.347925   \n",
       "4        0.0   0.000000   0.000000    0.436912     ...         1.515330   \n",
       "\n",
       "   feature_249  feature_250  feature_251  feature_252  feature_253  \\\n",
       "0          0.0      1.13465     0.000000      3.72576     2.518420   \n",
       "1          0.0      0.00000     0.000000      1.73826     0.000000   \n",
       "2          0.0      0.00000     0.831314      3.63862     0.924173   \n",
       "3          0.0      2.36946     0.722686      3.82811     0.411937   \n",
       "4          0.0      0.00000     0.000000      0.00000     2.957710   \n",
       "\n",
       "   feature_254  feature_255  feature_256      target  \n",
       "0          0.0     1.867780      2.79299        frog  \n",
       "1          0.0     0.755148      1.46196  automobile  \n",
       "2          0.0     4.002000      2.84157        frog  \n",
       "3          0.0     2.211020      3.02779        frog  \n",
       "4          0.0     1.208070      0.00000        ship  \n",
       "\n",
       "[5 rows x 257 columns]"
      ]
     },
     "execution_count": 79,
     "metadata": {},
     "output_type": "execute_result"
    }
   ],
   "source": [
    "data.head()"
   ]
  },
  {
   "cell_type": "code",
   "execution_count": 80,
   "metadata": {},
   "outputs": [
    {
     "data": {
      "text/html": [
       "<div>\n",
       "<style>\n",
       "    .dataframe thead tr:only-child th {\n",
       "        text-align: right;\n",
       "    }\n",
       "\n",
       "    .dataframe thead th {\n",
       "        text-align: left;\n",
       "    }\n",
       "\n",
       "    .dataframe tbody tr th {\n",
       "        vertical-align: top;\n",
       "    }\n",
       "</style>\n",
       "<table border=\"1\" class=\"dataframe\">\n",
       "  <thead>\n",
       "    <tr style=\"text-align: right;\">\n",
       "      <th></th>\n",
       "      <th>feature_1</th>\n",
       "      <th>feature_2</th>\n",
       "      <th>feature_3</th>\n",
       "      <th>feature_4</th>\n",
       "      <th>feature_5</th>\n",
       "      <th>feature_6</th>\n",
       "      <th>feature_7</th>\n",
       "      <th>feature_8</th>\n",
       "      <th>feature_9</th>\n",
       "      <th>feature_10</th>\n",
       "      <th>...</th>\n",
       "      <th>feature_247</th>\n",
       "      <th>feature_248</th>\n",
       "      <th>feature_249</th>\n",
       "      <th>feature_250</th>\n",
       "      <th>feature_251</th>\n",
       "      <th>feature_252</th>\n",
       "      <th>feature_253</th>\n",
       "      <th>feature_254</th>\n",
       "      <th>feature_255</th>\n",
       "      <th>feature_256</th>\n",
       "    </tr>\n",
       "  </thead>\n",
       "  <tbody>\n",
       "    <tr>\n",
       "      <th>count</th>\n",
       "      <td>1000.000000</td>\n",
       "      <td>1000.000000</td>\n",
       "      <td>1000.000000</td>\n",
       "      <td>1000.000000</td>\n",
       "      <td>1000.000000</td>\n",
       "      <td>1000.000000</td>\n",
       "      <td>1000.000000</td>\n",
       "      <td>1000.000000</td>\n",
       "      <td>1000.000000</td>\n",
       "      <td>1000.000000</td>\n",
       "      <td>...</td>\n",
       "      <td>1000.000000</td>\n",
       "      <td>1000.000000</td>\n",
       "      <td>1000.000000</td>\n",
       "      <td>1000.000000</td>\n",
       "      <td>1000.000000</td>\n",
       "      <td>1000.000000</td>\n",
       "      <td>1000.000000</td>\n",
       "      <td>1000.000000</td>\n",
       "      <td>1000.000000</td>\n",
       "      <td>1000.000000</td>\n",
       "    </tr>\n",
       "    <tr>\n",
       "      <th>mean</th>\n",
       "      <td>0.292992</td>\n",
       "      <td>0.035396</td>\n",
       "      <td>0.700226</td>\n",
       "      <td>0.400874</td>\n",
       "      <td>1.294882</td>\n",
       "      <td>0.277236</td>\n",
       "      <td>0.531522</td>\n",
       "      <td>0.065868</td>\n",
       "      <td>0.507029</td>\n",
       "      <td>0.670609</td>\n",
       "      <td>...</td>\n",
       "      <td>0.433320</td>\n",
       "      <td>0.354934</td>\n",
       "      <td>0.023223</td>\n",
       "      <td>0.511755</td>\n",
       "      <td>0.389800</td>\n",
       "      <td>0.679792</td>\n",
       "      <td>2.205072</td>\n",
       "      <td>0.641289</td>\n",
       "      <td>1.666970</td>\n",
       "      <td>0.693792</td>\n",
       "    </tr>\n",
       "    <tr>\n",
       "      <th>std</th>\n",
       "      <td>0.596710</td>\n",
       "      <td>0.163784</td>\n",
       "      <td>1.435478</td>\n",
       "      <td>1.327785</td>\n",
       "      <td>1.516483</td>\n",
       "      <td>0.602914</td>\n",
       "      <td>1.094835</td>\n",
       "      <td>0.274350</td>\n",
       "      <td>0.931115</td>\n",
       "      <td>1.445104</td>\n",
       "      <td>...</td>\n",
       "      <td>0.997405</td>\n",
       "      <td>0.609955</td>\n",
       "      <td>0.163639</td>\n",
       "      <td>0.832284</td>\n",
       "      <td>0.754649</td>\n",
       "      <td>1.370731</td>\n",
       "      <td>1.837833</td>\n",
       "      <td>1.765438</td>\n",
       "      <td>1.688540</td>\n",
       "      <td>1.226615</td>\n",
       "    </tr>\n",
       "    <tr>\n",
       "      <th>min</th>\n",
       "      <td>0.000000</td>\n",
       "      <td>0.000000</td>\n",
       "      <td>0.000000</td>\n",
       "      <td>0.000000</td>\n",
       "      <td>0.000000</td>\n",
       "      <td>0.000000</td>\n",
       "      <td>0.000000</td>\n",
       "      <td>0.000000</td>\n",
       "      <td>0.000000</td>\n",
       "      <td>0.000000</td>\n",
       "      <td>...</td>\n",
       "      <td>0.000000</td>\n",
       "      <td>0.000000</td>\n",
       "      <td>0.000000</td>\n",
       "      <td>0.000000</td>\n",
       "      <td>0.000000</td>\n",
       "      <td>0.000000</td>\n",
       "      <td>0.000000</td>\n",
       "      <td>0.000000</td>\n",
       "      <td>0.000000</td>\n",
       "      <td>0.000000</td>\n",
       "    </tr>\n",
       "    <tr>\n",
       "      <th>25%</th>\n",
       "      <td>0.000000</td>\n",
       "      <td>0.000000</td>\n",
       "      <td>0.000000</td>\n",
       "      <td>0.000000</td>\n",
       "      <td>0.000000</td>\n",
       "      <td>0.000000</td>\n",
       "      <td>0.000000</td>\n",
       "      <td>0.000000</td>\n",
       "      <td>0.000000</td>\n",
       "      <td>0.000000</td>\n",
       "      <td>...</td>\n",
       "      <td>0.000000</td>\n",
       "      <td>0.000000</td>\n",
       "      <td>0.000000</td>\n",
       "      <td>0.000000</td>\n",
       "      <td>0.000000</td>\n",
       "      <td>0.000000</td>\n",
       "      <td>0.606006</td>\n",
       "      <td>0.000000</td>\n",
       "      <td>0.000000</td>\n",
       "      <td>0.000000</td>\n",
       "    </tr>\n",
       "    <tr>\n",
       "      <th>50%</th>\n",
       "      <td>0.000000</td>\n",
       "      <td>0.000000</td>\n",
       "      <td>0.000000</td>\n",
       "      <td>0.000000</td>\n",
       "      <td>0.739275</td>\n",
       "      <td>0.000000</td>\n",
       "      <td>0.000000</td>\n",
       "      <td>0.000000</td>\n",
       "      <td>0.000000</td>\n",
       "      <td>0.000000</td>\n",
       "      <td>...</td>\n",
       "      <td>0.000000</td>\n",
       "      <td>0.000000</td>\n",
       "      <td>0.000000</td>\n",
       "      <td>0.000000</td>\n",
       "      <td>0.000000</td>\n",
       "      <td>0.000000</td>\n",
       "      <td>2.012585</td>\n",
       "      <td>0.000000</td>\n",
       "      <td>1.201800</td>\n",
       "      <td>0.000000</td>\n",
       "    </tr>\n",
       "    <tr>\n",
       "      <th>75%</th>\n",
       "      <td>0.304501</td>\n",
       "      <td>0.000000</td>\n",
       "      <td>0.435712</td>\n",
       "      <td>0.000000</td>\n",
       "      <td>2.135430</td>\n",
       "      <td>0.173835</td>\n",
       "      <td>0.539599</td>\n",
       "      <td>0.000000</td>\n",
       "      <td>0.666647</td>\n",
       "      <td>0.440641</td>\n",
       "      <td>...</td>\n",
       "      <td>0.054449</td>\n",
       "      <td>0.531211</td>\n",
       "      <td>0.000000</td>\n",
       "      <td>0.819891</td>\n",
       "      <td>0.464264</td>\n",
       "      <td>0.727678</td>\n",
       "      <td>3.426335</td>\n",
       "      <td>0.075498</td>\n",
       "      <td>2.671687</td>\n",
       "      <td>0.916790</td>\n",
       "    </tr>\n",
       "    <tr>\n",
       "      <th>max</th>\n",
       "      <td>4.420420</td>\n",
       "      <td>1.708790</td>\n",
       "      <td>7.588520</td>\n",
       "      <td>10.957100</td>\n",
       "      <td>7.243310</td>\n",
       "      <td>3.931260</td>\n",
       "      <td>7.051080</td>\n",
       "      <td>3.224520</td>\n",
       "      <td>5.644760</td>\n",
       "      <td>9.508800</td>\n",
       "      <td>...</td>\n",
       "      <td>6.260280</td>\n",
       "      <td>3.455330</td>\n",
       "      <td>2.338530</td>\n",
       "      <td>5.383730</td>\n",
       "      <td>4.494660</td>\n",
       "      <td>6.880400</td>\n",
       "      <td>8.262500</td>\n",
       "      <td>11.453600</td>\n",
       "      <td>6.874390</td>\n",
       "      <td>6.151250</td>\n",
       "    </tr>\n",
       "  </tbody>\n",
       "</table>\n",
       "<p>8 rows × 256 columns</p>\n",
       "</div>"
      ],
      "text/plain": [
       "         feature_1    feature_2    feature_3    feature_4    feature_5  \\\n",
       "count  1000.000000  1000.000000  1000.000000  1000.000000  1000.000000   \n",
       "mean      0.292992     0.035396     0.700226     0.400874     1.294882   \n",
       "std       0.596710     0.163784     1.435478     1.327785     1.516483   \n",
       "min       0.000000     0.000000     0.000000     0.000000     0.000000   \n",
       "25%       0.000000     0.000000     0.000000     0.000000     0.000000   \n",
       "50%       0.000000     0.000000     0.000000     0.000000     0.739275   \n",
       "75%       0.304501     0.000000     0.435712     0.000000     2.135430   \n",
       "max       4.420420     1.708790     7.588520    10.957100     7.243310   \n",
       "\n",
       "         feature_6    feature_7    feature_8    feature_9   feature_10  \\\n",
       "count  1000.000000  1000.000000  1000.000000  1000.000000  1000.000000   \n",
       "mean      0.277236     0.531522     0.065868     0.507029     0.670609   \n",
       "std       0.602914     1.094835     0.274350     0.931115     1.445104   \n",
       "min       0.000000     0.000000     0.000000     0.000000     0.000000   \n",
       "25%       0.000000     0.000000     0.000000     0.000000     0.000000   \n",
       "50%       0.000000     0.000000     0.000000     0.000000     0.000000   \n",
       "75%       0.173835     0.539599     0.000000     0.666647     0.440641   \n",
       "max       3.931260     7.051080     3.224520     5.644760     9.508800   \n",
       "\n",
       "          ...       feature_247  feature_248  feature_249  feature_250  \\\n",
       "count     ...       1000.000000  1000.000000  1000.000000  1000.000000   \n",
       "mean      ...          0.433320     0.354934     0.023223     0.511755   \n",
       "std       ...          0.997405     0.609955     0.163639     0.832284   \n",
       "min       ...          0.000000     0.000000     0.000000     0.000000   \n",
       "25%       ...          0.000000     0.000000     0.000000     0.000000   \n",
       "50%       ...          0.000000     0.000000     0.000000     0.000000   \n",
       "75%       ...          0.054449     0.531211     0.000000     0.819891   \n",
       "max       ...          6.260280     3.455330     2.338530     5.383730   \n",
       "\n",
       "       feature_251  feature_252  feature_253  feature_254  feature_255  \\\n",
       "count  1000.000000  1000.000000  1000.000000  1000.000000  1000.000000   \n",
       "mean      0.389800     0.679792     2.205072     0.641289     1.666970   \n",
       "std       0.754649     1.370731     1.837833     1.765438     1.688540   \n",
       "min       0.000000     0.000000     0.000000     0.000000     0.000000   \n",
       "25%       0.000000     0.000000     0.606006     0.000000     0.000000   \n",
       "50%       0.000000     0.000000     2.012585     0.000000     1.201800   \n",
       "75%       0.464264     0.727678     3.426335     0.075498     2.671687   \n",
       "max       4.494660     6.880400     8.262500    11.453600     6.874390   \n",
       "\n",
       "       feature_256  \n",
       "count  1000.000000  \n",
       "mean      0.693792  \n",
       "std       1.226615  \n",
       "min       0.000000  \n",
       "25%       0.000000  \n",
       "50%       0.000000  \n",
       "75%       0.916790  \n",
       "max       6.151250  \n",
       "\n",
       "[8 rows x 256 columns]"
      ]
     },
     "execution_count": 80,
     "metadata": {},
     "output_type": "execute_result"
    }
   ],
   "source": [
    "data.describe() "
   ]
  },
  {
   "cell_type": "code",
   "execution_count": 81,
   "metadata": {},
   "outputs": [
    {
     "ename": "ValueError",
     "evalue": "Layout of 3x2 must be larger than required size 256",
     "output_type": "error",
     "traceback": [
      "\u001b[1;31m---------------------------------------------------------------------------\u001b[0m",
      "\u001b[1;31mValueError\u001b[0m                                Traceback (most recent call last)",
      "\u001b[1;32m<ipython-input-81-8ea7038f0b78>\u001b[0m in \u001b[0;36m<module>\u001b[1;34m()\u001b[0m\n\u001b[1;32m----> 1\u001b[1;33m \u001b[0mdata\u001b[0m\u001b[1;33m.\u001b[0m\u001b[0mhist\u001b[0m\u001b[1;33m(\u001b[0m\u001b[0mfigsize\u001b[0m\u001b[1;33m=\u001b[0m\u001b[1;33m(\u001b[0m\u001b[1;36m100\u001b[0m\u001b[1;33m,\u001b[0m \u001b[1;36m100\u001b[0m\u001b[1;33m)\u001b[0m\u001b[1;33m,\u001b[0m \u001b[0mbins\u001b[0m\u001b[1;33m=\u001b[0m\u001b[1;36m50\u001b[0m\u001b[1;33m,\u001b[0m \u001b[0mlayout\u001b[0m\u001b[1;33m=\u001b[0m\u001b[1;33m(\u001b[0m\u001b[1;36m3\u001b[0m\u001b[1;33m,\u001b[0m \u001b[1;36m2\u001b[0m\u001b[1;33m)\u001b[0m\u001b[1;33m)\u001b[0m\u001b[1;33m;\u001b[0m\u001b[1;33m\u001b[0m\u001b[0m\n\u001b[0m",
      "\u001b[1;32m~\\AppData\\Roaming\\Python\\Python35\\site-packages\\pandas\\plotting\\_core.py\u001b[0m in \u001b[0;36mhist_frame\u001b[1;34m(data, column, by, grid, xlabelsize, xrot, ylabelsize, yrot, ax, sharex, sharey, figsize, layout, bins, **kwds)\u001b[0m\n\u001b[0;32m   2130\u001b[0m     fig, axes = _subplots(naxes=naxes, ax=ax, squeeze=False,\n\u001b[0;32m   2131\u001b[0m                           \u001b[0msharex\u001b[0m\u001b[1;33m=\u001b[0m\u001b[0msharex\u001b[0m\u001b[1;33m,\u001b[0m \u001b[0msharey\u001b[0m\u001b[1;33m=\u001b[0m\u001b[0msharey\u001b[0m\u001b[1;33m,\u001b[0m \u001b[0mfigsize\u001b[0m\u001b[1;33m=\u001b[0m\u001b[0mfigsize\u001b[0m\u001b[1;33m,\u001b[0m\u001b[1;33m\u001b[0m\u001b[0m\n\u001b[1;32m-> 2132\u001b[1;33m                           layout=layout)\n\u001b[0m\u001b[0;32m   2133\u001b[0m     \u001b[0m_axes\u001b[0m \u001b[1;33m=\u001b[0m \u001b[0m_flatten\u001b[0m\u001b[1;33m(\u001b[0m\u001b[0maxes\u001b[0m\u001b[1;33m)\u001b[0m\u001b[1;33m\u001b[0m\u001b[0m\n\u001b[0;32m   2134\u001b[0m \u001b[1;33m\u001b[0m\u001b[0m\n",
      "\u001b[1;32m~\\AppData\\Roaming\\Python\\Python35\\site-packages\\pandas\\plotting\\_tools.py\u001b[0m in \u001b[0;36m_subplots\u001b[1;34m(naxes, sharex, sharey, squeeze, subplot_kw, ax, layout, layout_type, **fig_kw)\u001b[0m\n\u001b[0;32m    228\u001b[0m             \u001b[0mfig\u001b[0m\u001b[1;33m.\u001b[0m\u001b[0mclear\u001b[0m\u001b[1;33m(\u001b[0m\u001b[1;33m)\u001b[0m\u001b[1;33m\u001b[0m\u001b[0m\n\u001b[0;32m    229\u001b[0m \u001b[1;33m\u001b[0m\u001b[0m\n\u001b[1;32m--> 230\u001b[1;33m     \u001b[0mnrows\u001b[0m\u001b[1;33m,\u001b[0m \u001b[0mncols\u001b[0m \u001b[1;33m=\u001b[0m \u001b[0m_get_layout\u001b[0m\u001b[1;33m(\u001b[0m\u001b[0mnaxes\u001b[0m\u001b[1;33m,\u001b[0m \u001b[0mlayout\u001b[0m\u001b[1;33m=\u001b[0m\u001b[0mlayout\u001b[0m\u001b[1;33m,\u001b[0m \u001b[0mlayout_type\u001b[0m\u001b[1;33m=\u001b[0m\u001b[0mlayout_type\u001b[0m\u001b[1;33m)\u001b[0m\u001b[1;33m\u001b[0m\u001b[0m\n\u001b[0m\u001b[0;32m    231\u001b[0m     \u001b[0mnplots\u001b[0m \u001b[1;33m=\u001b[0m \u001b[0mnrows\u001b[0m \u001b[1;33m*\u001b[0m \u001b[0mncols\u001b[0m\u001b[1;33m\u001b[0m\u001b[0m\n\u001b[0;32m    232\u001b[0m \u001b[1;33m\u001b[0m\u001b[0m\n",
      "\u001b[1;32m~\\AppData\\Roaming\\Python\\Python35\\site-packages\\pandas\\plotting\\_tools.py\u001b[0m in \u001b[0;36m_get_layout\u001b[1;34m(nplots, layout, layout_type)\u001b[0m\n\u001b[0;32m     87\u001b[0m         \u001b[1;32mif\u001b[0m \u001b[0mnrows\u001b[0m \u001b[1;33m*\u001b[0m \u001b[0mncols\u001b[0m \u001b[1;33m<\u001b[0m \u001b[0mnplots\u001b[0m\u001b[1;33m:\u001b[0m\u001b[1;33m\u001b[0m\u001b[0m\n\u001b[0;32m     88\u001b[0m             raise ValueError('Layout of %sx%s must be larger than '\n\u001b[1;32m---> 89\u001b[1;33m                              'required size %s' % (nrows, ncols, nplots))\n\u001b[0m\u001b[0;32m     90\u001b[0m \u001b[1;33m\u001b[0m\u001b[0m\n\u001b[0;32m     91\u001b[0m         \u001b[1;32mreturn\u001b[0m \u001b[0mlayout\u001b[0m\u001b[1;33m\u001b[0m\u001b[0m\n",
      "\u001b[1;31mValueError\u001b[0m: Layout of 3x2 must be larger than required size 256"
     ]
    },
    {
     "data": {
      "text/plain": [
       "<matplotlib.figure.Figure at 0x1b9d6198>"
      ]
     },
     "metadata": {},
     "output_type": "display_data"
    }
   ],
   "source": [
    "data.hist(figsize=(100, 100), bins=50, layout=(3, 2));"
   ]
  },
  {
   "cell_type": "code",
   "execution_count": null,
   "metadata": {
    "collapsed": true
   },
   "outputs": [],
   "source": [
    "sns.pairplot(data, hue=\"target\")"
   ]
  },
  {
   "cell_type": "markdown",
   "metadata": {},
   "source": [
    "# Step 2: Building a predictive model"
   ]
  },
  {
   "cell_type": "markdown",
   "metadata": {},
   "source": [
    "## Loading data with DataManager\n",
    "We reload the data with the AutoML DataManager class because this is more convenient:"
   ]
  },
  {
   "cell_type": "code",
   "execution_count": 82,
   "metadata": {},
   "outputs": [
    {
     "name": "stdout",
     "output_type": "stream",
     "text": [
      "Info file found : D:\\Github\\VISION_project\\Starting_kit\\sample_data\\cifar10_public.info\n",
      "DataManager : cifar10\n",
      "info:\n",
      "\tfeat_type = Numerical\n",
      "data:\n",
      "\tX_train = array(1000, 256)\n",
      "\tY_train = array(1000, 10)\n",
      "\tX_valid = array(1000, 256)\n",
      "\tX_test = array(1000, 256)\n",
      "feat_type:\tarray(256,)\n",
      "feat_idx:\tarray(0,)\n",
      "\tusage = dataset cifar10\n",
      "data:\n",
      "\tX_train = array(1000, 256)\n",
      "\tY_train = array(1000, 10)\n",
      "\tX_valid = array(1000, 256)\n",
      "\tX_test = array(1000, 256)\n",
      "feat_type:\tarray(256,)\n",
      "feat_idx:\tarray(0,)\n",
      "\ttest_num = 10000\n",
      "data:\n",
      "\tX_train = array(1000, 256)\n",
      "\tY_train = array(1000, 10)\n",
      "\tX_valid = array(1000, 256)\n",
      "\tX_test = array(1000, 256)\n",
      "feat_type:\tarray(256,)\n",
      "feat_idx:\tarray(0,)\n",
      "\ttarget_num = 1\n",
      "data:\n",
      "\tX_train = array(1000, 256)\n",
      "\tY_train = array(1000, 10)\n",
      "\tX_valid = array(1000, 256)\n",
      "\tX_test = array(1000, 256)\n",
      "feat_type:\tarray(256,)\n",
      "feat_idx:\tarray(0,)\n",
      "\tname = cifar10\n",
      "data:\n",
      "\tX_train = array(1000, 256)\n",
      "\tY_train = array(1000, 10)\n",
      "\tX_valid = array(1000, 256)\n",
      "\tX_test = array(1000, 256)\n",
      "feat_type:\tarray(256,)\n",
      "feat_idx:\tarray(0,)\n",
      "\tmetric = accuracy_metric\n",
      "data:\n",
      "\tX_train = array(1000, 256)\n",
      "\tY_train = array(1000, 10)\n",
      "\tX_valid = array(1000, 256)\n",
      "\tX_test = array(1000, 256)\n",
      "feat_type:\tarray(256,)\n",
      "feat_idx:\tarray(0,)\n",
      "\tfeat_num = 256\n",
      "data:\n",
      "\tX_train = array(1000, 256)\n",
      "\tY_train = array(1000, 10)\n",
      "\tX_valid = array(1000, 256)\n",
      "\tX_test = array(1000, 256)\n",
      "feat_type:\tarray(256,)\n",
      "feat_idx:\tarray(0,)\n",
      "\ttime_budget = 1200\n",
      "data:\n",
      "\tX_train = array(1000, 256)\n",
      "\tY_train = array(1000, 10)\n",
      "\tX_valid = array(1000, 256)\n",
      "\tX_test = array(1000, 256)\n",
      "feat_type:\tarray(256,)\n",
      "feat_idx:\tarray(0,)\n",
      "\tis_sparse = 0\n",
      "data:\n",
      "\tX_train = array(1000, 256)\n",
      "\tY_train = array(1000, 10)\n",
      "\tX_valid = array(1000, 256)\n",
      "\tX_test = array(1000, 256)\n",
      "feat_type:\tarray(256,)\n",
      "feat_idx:\tarray(0,)\n",
      "\ttrain_num = 40000\n",
      "data:\n",
      "\tX_train = array(1000, 256)\n",
      "\tY_train = array(1000, 10)\n",
      "\tX_valid = array(1000, 256)\n",
      "\tX_test = array(1000, 256)\n",
      "feat_type:\tarray(256,)\n",
      "feat_idx:\tarray(0,)\n",
      "\ttask = multiclass.classification\n",
      "data:\n",
      "\tX_train = array(1000, 256)\n",
      "\tY_train = array(1000, 10)\n",
      "\tX_valid = array(1000, 256)\n",
      "\tX_test = array(1000, 256)\n",
      "feat_type:\tarray(256,)\n",
      "feat_idx:\tarray(0,)\n",
      "\thas_categorical = 0\n",
      "data:\n",
      "\tX_train = array(1000, 256)\n",
      "\tY_train = array(1000, 10)\n",
      "\tX_valid = array(1000, 256)\n",
      "\tX_test = array(1000, 256)\n",
      "feat_type:\tarray(256,)\n",
      "feat_idx:\tarray(0,)\n",
      "\tvalid_num = 10000\n",
      "data:\n",
      "\tX_train = array(1000, 256)\n",
      "\tY_train = array(1000, 10)\n",
      "\tX_valid = array(1000, 256)\n",
      "\tX_test = array(1000, 256)\n",
      "feat_type:\tarray(256,)\n",
      "feat_idx:\tarray(0,)\n",
      "\tformat = dense\n",
      "data:\n",
      "\tX_train = array(1000, 256)\n",
      "\tY_train = array(1000, 10)\n",
      "\tX_valid = array(1000, 256)\n",
      "\tX_test = array(1000, 256)\n",
      "feat_type:\tarray(256,)\n",
      "feat_idx:\tarray(0,)\n",
      "\tlabel_num = 10\n",
      "data:\n",
      "\tX_train = array(1000, 256)\n",
      "\tY_train = array(1000, 10)\n",
      "\tX_valid = array(1000, 256)\n",
      "\tX_test = array(1000, 256)\n",
      "feat_type:\tarray(256,)\n",
      "feat_idx:\tarray(0,)\n",
      "\thas_missing = 0\n",
      "data:\n",
      "\tX_train = array(1000, 256)\n",
      "\tY_train = array(1000, 10)\n",
      "\tX_valid = array(1000, 256)\n",
      "\tX_test = array(1000, 256)\n",
      "feat_type:\tarray(256,)\n",
      "feat_idx:\tarray(0,)\n",
      "\ttarget_type = Numerical\n",
      "data:\n",
      "\tX_train = array(1000, 256)\n",
      "\tY_train = array(1000, 10)\n",
      "\tX_valid = array(1000, 256)\n",
      "\tX_test = array(1000, 256)\n",
      "feat_type:\tarray(256,)\n",
      "feat_idx:\tarray(0,)\n",
      "\n"
     ]
    }
   ],
   "source": [
    "from data_manager import DataManager\n",
    "D = DataManager(dataname, datadir, replace_missing=True)\n",
    "print(D)"
   ]
  },
  {
   "cell_type": "markdown",
   "metadata": {},
   "source": [
    "## Training a predictive model\n",
    "We provide an example of predictive model (for classification or regression) in the `sample_code_submission/` directory. It is a quite stupid model: it makes constant predictions. Replace it with your own model."
   ]
  },
  {
   "cell_type": "code",
   "execution_count": 142,
   "metadata": {
    "collapsed": true
   },
   "outputs": [],
   "source": [
    "from model import model\n",
    "??model "
   ]
  },
  {
   "cell_type": "markdown",
   "metadata": {},
   "source": [
    "Create an instance of the model (run the constructor) and attempt to reload a previously saved version from `sample_code_submission/`:"
   ]
  },
  {
   "cell_type": "code",
   "execution_count": 143,
   "metadata": {},
   "outputs": [],
   "source": [
    "M = model()\n",
    "trained_model_name = model_dir + dataname\n",
    "#M = M.load(trained_model_name) # Attempts to re-load an already trained model\n",
    "#M.define_model('GaussianNB')"
   ]
  },
  {
   "cell_type": "code",
   "execution_count": 144,
   "metadata": {},
   "outputs": [],
   "source": [
    "import numpy as np\n",
    "def convert_label(y):\n",
    "    y_convert = np.zeros((len(y),))\n",
    "    for cpt, i in enumerate(y):\n",
    "        #print(np.where(i == 1)[0][0])\n",
    "        y_convert[cpt] = np.where(i == 1)[0][0]\n",
    "        \n",
    "    return y_convert\n"
   ]
  },
  {
   "cell_type": "markdown",
   "metadata": {},
   "source": [
    "Train and run your predictive model. If you saved have an aldeady trained model saved in sample_code_submission, the evaluation script will reload it and not retrain, just test. This will happen the second time you run the code because when the model is trained it gets saved. So delete iris_model.pickle from sample_code_submission if you do not want this to happen."
   ]
  },
  {
   "cell_type": "code",
   "execution_count": 145,
   "metadata": {},
   "outputs": [
    {
     "name": "stdout",
     "output_type": "stream",
     "text": [
      "False\n",
      "1000\n",
      "FIT: dim(X)= [1000, 256]\n",
      "FIT: dim(y)= [1000, 1]\n",
      "PREDICT: dim(X)= [1000, 256]\n",
      "PREDICT: dim(y)= [1000, 1]\n",
      "PREDICT: dim(X)= [1000, 256]\n",
      "PREDICT: dim(y)= [1000, 1]\n",
      "PREDICT: dim(X)= [1000, 256]\n",
      "PREDICT: dim(y)= [1000, 1]\n",
      "sample_code_submission/cifar10\n"
     ]
    }
   ],
   "source": [
    "print(M.is_trained)\n",
    "if not(M.is_trained):\n",
    "    X_train = D.data['X_train']\n",
    "    Y_train = D.data['Y_train']\n",
    "    Y_train = convert_label(Y_train)\n",
    "    M.fit(X_train, Y_train)   \n",
    "\n",
    "# print(len(y), y)\n",
    "Y_hat_train = M.predict(D.data['X_train']) # Optional, not really needed to test on taining examples\n",
    "Y_hat_valid = M.predict(D.data['X_valid'])\n",
    "Y_hat_test = M.predict(D.data['X_test'])\n",
    "print(str(trained_model_name))"
   ]
  },
  {
   "cell_type": "markdown",
   "metadata": {},
   "source": [
    "Save the trained model (will be ready to reload next time around) and save the prediction results:"
   ]
  },
  {
   "cell_type": "code",
   "execution_count": 146,
   "metadata": {
    "collapsed": true
   },
   "outputs": [],
   "source": [
    "import pickle\n",
    "def save_result(name_file, preds):\n",
    "    label_max = 9\n",
    "    f = open(name_file, 'w')\n",
    "    for pred in preds:\n",
    "        pred = int(pred)\n",
    "        tableau_pred = np.zeros((10, ))\n",
    "        for cpt, val in enumerate(tableau_pred):\n",
    "            f.write(str(val))\n",
    "            if cpt != label_max:\n",
    "                f.write(' ')\n",
    "            else:\n",
    "                f.write('\\n')\n"
   ]
  },
  {
   "cell_type": "code",
   "execution_count": 147,
   "metadata": {},
   "outputs": [
    {
     "name": "stdout",
     "output_type": "stream",
     "text": [
      "modele name :  sample_code_submission/cifar10_model.pickle\n"
     ]
    }
   ],
   "source": [
    "M.save(trained_model_name)                 \n",
    "result_name = 'sample_result_submission/' + dataname\n",
    "from data_io import write\n",
    "#print(Y_hat_valid)\n",
    "save_result(result_name + '_valid2.predict', Y_hat_valid)\n",
    "save_result(result_name + '_test2.predict', Y_hat_test)\n",
    "\n",
    "#write(result_name + '_valid2.predict', str([*Y_hat_valid.astype(int)]))\n",
    "#write(result_name + '_test2.predict', Y_hat_test)\n",
    "#result_name2 = result_name+'_model'\n",
    "#!dir $result_name2"
   ]
  },
  {
   "cell_type": "markdown",
   "metadata": {},
   "source": [
    "## Scoring the results\n",
    "### Load the challenge metric\n",
    "<b>The metric chosen for your challenge</b> is identified in the \"metric.txt\" file found in the `scoring_function/` directory. We use here the `mse_metric` metric (an example of organizer-supplied metric found in `my_metric.py`), which computes the mean-square-error. You may change that in the \"metric.txt\" file to e.g. use `bac_multiclass`, one of the AutoML challenge metrics found in `libscores.py`, which is 2*(balanced_accuracy)-1."
   ]
  },
  {
   "cell_type": "code",
   "execution_count": 148,
   "metadata": {},
   "outputs": [
    {
     "name": "stdout",
     "output_type": "stream",
     "text": [
      "Using scoring metric: accuracy_per_class\n"
     ]
    }
   ],
   "source": [
    "with open(score_dir + '/metric.txt', 'r') as f:\n",
    "    metric_name = f.readline().strip()\n",
    "import libscores, my_metric\n",
    "try:\n",
    "    scoring_function = getattr(libscores, metric_name)\n",
    "except:\n",
    "    scoring_function = getattr(my_metric, metric_name)\n",
    "print('Using scoring metric:', metric_name)\n",
    "??scoring_function"
   ]
  },
  {
   "cell_type": "markdown",
   "metadata": {},
   "source": [
    "### Training performance\n",
    "The participants normally posess target values (labels) only for training examples (except for the sample data). We compute with the `example` metric the training score, which should be zero for perfect predictions."
   ]
  },
  {
   "cell_type": "code",
   "execution_count": 149,
   "metadata": {},
   "outputs": [
    {
     "name": "stdout",
     "output_type": "stream",
     "text": [
      "Training score for the class airplane metric = 0.8750\n",
      "Ideal score for the class  airplane metric = 1.0000\n",
      "Training score for the class automobile metric = 0.9694\n",
      "Ideal score for the class  automobile metric = 1.0000\n",
      "Training score for the class bird metric = 0.9028\n",
      "Ideal score for the class  bird metric = 1.0000\n",
      "Training score for the class cat metric = 0.7788\n",
      "Ideal score for the class  cat metric = 1.0000\n",
      "Training score for the class deer metric = 0.8073\n",
      "Ideal score for the class  deer metric = 1.0000\n",
      "Training score for the class dog metric = 0.8696\n",
      "Ideal score for the class  dog metric = 1.0000\n",
      "Training score for the class frog metric = 0.9796\n",
      "Ideal score for the class  frog metric = 1.0000\n",
      "Training score for the class horse metric = 0.9406\n",
      "Ideal score for the class  horse metric = 1.0000\n",
      "Training score for the class ship metric = 0.9068\n",
      "Ideal score for the class  ship metric = 1.0000\n",
      "Training score for the class truck metric = 0.9368\n",
      "Ideal score for the class  truck metric = 1.0000\n"
     ]
    }
   ],
   "source": [
    "name_label = ['airplane', 'automobile', 'bird', 'cat', 'deer', 'dog', 'frog', 'horse', 'ship', 'truck']\n",
    "metrics = scoring_function(Y_train, Y_hat_train)\n",
    "ideal_metrics = scoring_function(Y_train, Y_train)\n",
    "for cpt, m in enumerate(metrics):\n",
    "    print('Training score for the class', name_label[cpt], 'metric = %5.4f' % m)\n",
    "    print('Ideal score for the class ', name_label[cpt], 'metric = %5.4f' % ideal_metrics[0])"
   ]
  },
  {
   "cell_type": "markdown",
   "metadata": {},
   "source": [
    "Be careful: some metrics use one-hot encoding for multi-class classification problems, but other use class numbers. So you need to convert the target values and predicted values if you want to use those. This is the case of `scikit-learn` metrics."
   ]
  },
  {
   "cell_type": "code",
   "execution_count": 150,
   "metadata": {},
   "outputs": [],
   "source": [
    "# Convert targets and predictions for vectors of class numbers:\n",
    "#from data_converter import convert_to_num\n",
    "#y_train = Y_train#convert_to_num(Y_train)\n",
    "#y_hat_train = Y_hat_train #convert_to_num(Y_hat_train)\n",
    "# Compute accuracy and confusion matrix:\n",
    "#from sklearn.metrics import accuracy_score\n",
    "#from sklearn.metrics import confusion_matrix\n",
    "#print 'y_train     =' , y_train\n",
    "#print 'y_hat_train =' , y_hat_train\n",
    "#print('Training accuracy =', accuracy_score(y_train, y_hat_train))\n",
    "#print('Confusion matrix [known in lines, predicted in columns]=',confusion_matrix(y_train, y_hat_train))"
   ]
  },
  {
   "cell_type": "markdown",
   "metadata": {},
   "source": [
    "### Cross-validation performance\n",
    "The participants do not have access to the labels Y_valid and Y_test to self-assess their validation and test performances. But training performance is not a good prediction of validation or test performance. Using cross-validation, the training data is split into multiple training/test folds, which allows participants to self-assess their model during development."
   ]
  },
  {
   "cell_type": "code",
   "execution_count": 153,
   "metadata": {},
   "outputs": [
    {
     "name": "stdout",
     "output_type": "stream",
     "text": [
      "664\n",
      "FIT: dim(X)= [664, 256]\n",
      "FIT: dim(y)= [664, 1]\n",
      "PREDICT: dim(X)= [336, 256]\n",
      "PREDICT: dim(y)= [336, 1]\n",
      "Fold 1 example metric =  0.878562089628\n",
      "667\n",
      "FIT: dim(X)= [667, 256]\n",
      "FIT: dim(y)= [667, 1]\n",
      "PREDICT: dim(X)= [333, 256]\n",
      "PREDICT: dim(y)= [333, 1]\n",
      "Fold 2 example metric =  0.879820302676\n",
      "669\n",
      "FIT: dim(X)= [669, 256]\n",
      "FIT: dim(y)= [669, 1]\n",
      "PREDICT: dim(X)= [331, 256]\n",
      "PREDICT: dim(y)= [331, 1]\n",
      "Fold 3 example metric =  0.872138806117\n",
      "Average score =  0.876840399474\n"
     ]
    }
   ],
   "source": [
    "from sklearn.cross_validation import StratifiedKFold\n",
    "from numpy import zeros, mean\n",
    "# 3-fold cross-validation\n",
    "n = 3\n",
    "skf = StratifiedKFold(y_train, n_folds=n)\n",
    "i=0\n",
    "scores = zeros(n)\n",
    "for idx_t, idx_v in skf:\n",
    "    Xtr = X_train[idx_t]\n",
    "    Ytr = Y_train[idx_t]\n",
    "    Xva = X_train[idx_v]\n",
    "    Yva = Y_train[idx_v]\n",
    "    M = model()\n",
    "    M.fit(Xtr, Ytr)\n",
    "    Yhat = M.predict(Xva)\n",
    "    scores[i] = np.asarray(scoring_function(Yva, Yhat)).mean()\n",
    "    print('Fold', i+1, 'example metric = ', scores[i])\n",
    "    i=i+1\n",
    "print('Average score = ', mean(scores))"
   ]
  },
  {
   "cell_type": "markdown",
   "metadata": {},
   "source": [
    "# Step 3: Making a submission\n",
    "\n",
    "## Unit testing\n",
    "\n",
    "It is <b><span style=\"color:red\">important that you test your submission files before submitting them</span></b>. All you have to do to make a submission is modify the file <code>model.py</code> in the <code>sample_code_submission/</code> directory, then run this test to make sure everything works fine. This is the actual program that will be run on the server to test your submission. "
   ]
  },
  {
   "cell_type": "code",
   "execution_count": 154,
   "metadata": {
    "collapsed": true,
    "scrolled": true
   },
   "outputs": [],
   "source": [
    "outdir = 'sample_result_submission'     "
   ]
  },
  {
   "cell_type": "code",
   "execution_count": 155,
   "metadata": {
    "scrolled": true
   },
   "outputs": [
    {
     "name": "stderr",
     "output_type": "stream",
     "text": [
      "  File \"ingestion_program//ingestion.py\", line 179\n",
      "    print D\n",
      "          ^\n",
      "SyntaxError: Missing parentheses in call to 'print'\n"
     ]
    }
   ],
   "source": [
    "!python $problem_dir/ingestion.py $datadir $outdir $problem_dir $model_dir"
   ]
  },
  {
   "cell_type": "markdown",
   "metadata": {
    "collapsed": true
   },
   "source": [
    "## Preparing the submission\n",
    "\n",
    "Zip the contents of `sample_code_submission/` (without the directory), or download the challenge public_data and run the command in the previous cell, after replacing sample_data by public_data.\n",
    "Then zip the contents of `sample_result_submission/` (without the directory).\n",
    "<b><span style=\"color:red\">Do NOT zip the data with your submissions</span></b>."
   ]
  },
  {
   "cell_type": "code",
   "execution_count": null,
   "metadata": {
    "collapsed": true
   },
   "outputs": [],
   "source": []
  }
 ],
 "metadata": {
  "kernelspec": {
   "display_name": "Python 3",
   "language": "python",
   "name": "python3"
  },
  "language_info": {
   "codemirror_mode": {
    "name": "ipython",
    "version": 3
   },
   "file_extension": ".py",
   "mimetype": "text/x-python",
   "name": "python",
   "nbconvert_exporter": "python",
   "pygments_lexer": "ipython3",
   "version": "3.5.2"
  }
 },
 "nbformat": 4,
 "nbformat_minor": 1
}
